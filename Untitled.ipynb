{
 "cells": [
  {
   "cell_type": "markdown",
   "id": "5083ce2b-26cc-4c2e-a37d-a99bb589f325",
   "metadata": {},
   "source": [
    "Začetek"
   ]
  },
  {
   "cell_type": "code",
   "execution_count": 1,
   "id": "17d3ca23-e694-447b-bb66-d18bb0e4fdb1",
   "metadata": {},
   "outputs": [],
   "source": [
    "#Importing libraries\n",
    "import pandas as pd"
   ]
  },
  {
   "cell_type": "code",
   "execution_count": 2,
   "id": "58d48cdb-ada8-41e6-a70f-b2fd55317f82",
   "metadata": {},
   "outputs": [],
   "source": [
    "class UserItemData:\n",
    "    def __init__(self, path, from_date=None, to_date=None, min_ratings=None):\n",
    "        self.path = path\n",
    "        self.from_date = from_date\n",
    "        self.to_date = to_date\n",
    "        self.min_ratings = min_ratings\n",
    "        self.data = self.read_data()\n",
    "\n",
    "    def read_data(self):\n",
    "        if self.from_date:\n",
    "            from_date = self.from_date\n",
    "        if self.to_date:\n",
    "            to_date = self.to_date\n",
    "        if self.min_ratings:\n",
    "            min_ratings = self.min_ratings\n",
    "\n",
    "        file = open(self.path, 'rb')\n",
    "        db = pd.read_csv(file, delimiter='\\t')\n",
    "        print(db)\n",
    "        file.close()\n",
    "        \n",
    "        return db\n",
    "        \n",
    "    def nratings(self):\n",
    "        return self.data.shape[0]\n",
    "\n",
    "    \n",
    "\n",
    "    "
   ]
  },
  {
   "cell_type": "code",
   "execution_count": 3,
   "id": "e9c69653-05d5-4651-8564-e90cfeaebb20",
   "metadata": {
    "scrolled": true
   },
   "outputs": [
    {
     "name": "stdout",
     "output_type": "stream",
     "text": [
      "        userID  movieID  rating  date_day  date_month  date_year  date_hour  \\\n",
      "0           75        3     1.0        29          10       2006         23   \n",
      "1           75       32     4.5        29          10       2006         23   \n",
      "2           75      110     4.0        29          10       2006         23   \n",
      "3           75      160     2.0        29          10       2006         23   \n",
      "4           75      163     4.0        29          10       2006         23   \n",
      "...        ...      ...     ...       ...         ...        ...        ...   \n",
      "855593   71534    44555     4.0         3          12       2007          3   \n",
      "855594   71534    46578     4.0         3          12       2007          2   \n",
      "855595   71534    48516     4.5         3          12       2007          2   \n",
      "855596   71534    61075     5.0        10          10       2008          9   \n",
      "855597   71534    62049     4.5        10          10       2008          9   \n",
      "\n",
      "        date_minute  date_second  \n",
      "0                17           16  \n",
      "1                23           44  \n",
      "2                30            8  \n",
      "3                16           52  \n",
      "4                29           30  \n",
      "...             ...          ...  \n",
      "855593            5           38  \n",
      "855594           56           44  \n",
      "855595           53           46  \n",
      "855596           56            5  \n",
      "855597           58           10  \n",
      "\n",
      "[855598 rows x 9 columns]\n",
      "855598\n"
     ]
    }
   ],
   "source": [
    "uim = UserItemData('data/user_ratedmovies.dat')\n",
    "print(uim.nratings())"
   ]
  },
  {
   "cell_type": "code",
   "execution_count": null,
   "id": "914be308-1191-4641-b4de-2bbffc5188f5",
   "metadata": {},
   "outputs": [],
   "source": []
  }
 ],
 "metadata": {
  "kernelspec": {
   "display_name": "Python 3 (ipykernel)",
   "language": "python",
   "name": "python3"
  },
  "language_info": {
   "codemirror_mode": {
    "name": "ipython",
    "version": 3
   },
   "file_extension": ".py",
   "mimetype": "text/x-python",
   "name": "python",
   "nbconvert_exporter": "python",
   "pygments_lexer": "ipython3",
   "version": "3.13.0"
  }
 },
 "nbformat": 4,
 "nbformat_minor": 5
}
