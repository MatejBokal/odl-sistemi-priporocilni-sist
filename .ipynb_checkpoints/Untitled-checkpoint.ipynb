{
 "cells": [
  {
   "cell_type": "markdown",
   "id": "e56bacf9-5bc8-4e1b-a24a-dc712d130e08",
   "metadata": {},
   "source": [
    "1. del"
   ]
  },
  {
   "cell_type": "markdown",
   "id": "5083ce2b-26cc-4c2e-a37d-a99bb589f325",
   "metadata": {},
   "source": [
    "Začetek"
   ]
  },
  {
   "cell_type": "code",
   "execution_count": 1,
   "id": "17d3ca23-e694-447b-bb66-d18bb0e4fdb1",
   "metadata": {},
   "outputs": [],
   "source": [
    "#Importing libraries\n",
    "import pandas as pd\n",
    "import numpy as np\n",
    "import datetime\n",
    "import random\n",
    "from collections import defaultdict\n",
    "from math import sqrt"
   ]
  },
  {
   "cell_type": "markdown",
   "id": "f93f452f-f208-4460-a4dc-77293e269fc8",
   "metadata": {},
   "source": [
    "Branje ocen"
   ]
  },
  {
   "cell_type": "code",
   "execution_count": 2,
   "id": "58d48cdb-ada8-41e6-a70f-b2fd55317f82",
   "metadata": {},
   "outputs": [],
   "source": [
    "class UserItemData:\n",
    "    def __init__(self, path, start_date=None, end_date=None, min_ratings=None):\n",
    "        self.path = path\n",
    "        self.from_date = start_date\n",
    "        self.to_date = end_date\n",
    "        self.min_ratings = min_ratings\n",
    "        self.data = None\n",
    "        self.read_data()\n",
    "        \n",
    "\n",
    "    def read_data(self):\n",
    "        file = open(self.path, 'rb')\n",
    "        db = pd.read_csv(file, delimiter='\\t')\n",
    "        file.close()\n",
    "        self.data = db\n",
    "        \n",
    "        if self.from_date:\n",
    "            self.filter_date(\"from\")\n",
    "        if self.to_date:\n",
    "            self.filter_date(\"to\")\n",
    "        if self.min_ratings:\n",
    "            self.filter_ratings()\n",
    "\n",
    "    \n",
    "    def filter_date(self, from_to):\n",
    "        data = self.data\n",
    "        if from_to == \"from\":\n",
    "            date = self.from_date.split(\".\")\n",
    "            data = data[(data['date_year'] > int(date[2])) | ((data['date_year'] == int(date[2])) & (data['date_month'] > int(date[1]))) |\n",
    "                            (((data['date_year'] == int(date[2])) & (data['date_month'] == int(date[1]))) & (data['date_day'] >= int(date[0])))]\n",
    "        else:\n",
    "            date = self.to_date.split(\".\")\n",
    "            data = data[(data['date_year'] < int(date[2])) | ((data['date_year'] == int(date[2])) & (data['date_month'] < int(date[1]))) |\n",
    "                            (((data['date_year'] == int(date[2])) & (data['date_month'] == int(date[1]))) & (data['date_day'] < int(date[0])))]\n",
    "        self.data = data\n",
    "\n",
    "\n",
    "    def filter_ratings(self):\n",
    "        data = self.data\n",
    "        self.data = data[data.groupby('movieID')['movieID'].transform('size') >= 100]\n",
    "\n",
    "\n",
    "        \n",
    "    def nratings(self):\n",
    "        return self.data.shape[0]\n",
    "\n",
    "    \n",
    "\n",
    "    "
   ]
  },
  {
   "cell_type": "markdown",
   "id": "029fc7f8-809a-49ec-a978-ab2131cac28e",
   "metadata": {},
   "source": [
    "Test Branje ocen"
   ]
  },
  {
   "cell_type": "code",
   "execution_count": 3,
   "id": "e9c69653-05d5-4651-8564-e90cfeaebb20",
   "metadata": {
    "scrolled": true
   },
   "outputs": [
    {
     "name": "stdout",
     "output_type": "stream",
     "text": [
      "855598\n",
      "73584\n"
     ]
    }
   ],
   "source": [
    "uim = UserItemData('data/user_ratedmovies.dat')\n",
    "print(uim.nratings())\n",
    "\n",
    "uim = UserItemData('data/user_ratedmovies.dat', start_date = '12.1.2007', end_date='16.2.2008', min_ratings=100)\n",
    "print(uim.nratings())"
   ]
  },
  {
   "cell_type": "markdown",
   "id": "6f850a07-3af1-4582-9138-97225355f425",
   "metadata": {},
   "source": [
    "Branje filmov"
   ]
  },
  {
   "cell_type": "code",
   "execution_count": 4,
   "id": "b117c4b1-9d72-4d0c-a3e4-8f0be1e6bcec",
   "metadata": {},
   "outputs": [],
   "source": [
    "class MovieData:\n",
    "    def __init__(self, path):\n",
    "        self.path = path\n",
    "        self.data = None\n",
    "        self.read_data()\n",
    "\n",
    "    \n",
    "    def read_data(self):\n",
    "        file = open(self.path, 'rb')\n",
    "        db = pd.read_csv(file, delimiter='\\t', encoding='latin-1')\n",
    "        file.close()\n",
    "        self.data = db\n",
    "\n",
    "    \n",
    "    def get_title(self, movieID):\n",
    "        data = self.data\n",
    "        return data.loc[data['id'] == movieID, 'title'].iloc[0]"
   ]
  },
  {
   "cell_type": "markdown",
   "id": "bf3ede78-e564-4ae7-9d7a-076eb0061518",
   "metadata": {},
   "source": [
    "Test Branje filmov"
   ]
  },
  {
   "cell_type": "code",
   "execution_count": 5,
   "id": "e0094073-8418-4513-a178-838855c7d7cc",
   "metadata": {},
   "outputs": [
    {
     "name": "stdout",
     "output_type": "stream",
     "text": [
      "Toy story\n"
     ]
    }
   ],
   "source": [
    "md = MovieData('data/movies.dat')\n",
    "print(md.get_title(1))"
   ]
  },
  {
   "cell_type": "markdown",
   "id": "efe0533a-e66c-4b31-beb9-31361588b06f",
   "metadata": {},
   "source": [
    "Naključni prediktor"
   ]
  },
  {
   "cell_type": "code",
   "execution_count": 6,
   "id": "e9953f99-870e-4899-a6af-85503feb8e76",
   "metadata": {},
   "outputs": [],
   "source": [
    "class RandomPredictor:\n",
    "    def __init__(self, min_rating, max_rating):\n",
    "        self.min_rating = min_rating\n",
    "        self.max_rating = max_rating\n",
    "        self.data = None\n",
    "        \n",
    "    def fit(self, X):\n",
    "        self.data = X.data\n",
    "\n",
    "    def predict(self, user_id):\n",
    "        all_movies = self.data['movieID'].unique()\n",
    "\n",
    "        # TA DEL BI BIL ČE BI ŠLO SAMO ZA TISTE, KI JIH ŠE NI OCENIL, TO DELA ŽE RECOMMENDER\n",
    "        #rated = (self.data['movieID'] == user_id)\n",
    "        #rated_movies = self.data.loc[rated, 'movieID']\n",
    "        #not_rated = [movie for movie in all_movies if movie not in rated_movies]\n",
    "        not_rated = all_movies\n",
    "\n",
    "        predictions = {}\n",
    "        for movie_id in not_rated:\n",
    "            predictions[movie_id] = random.randint(self.min_rating, self.max_rating)\n",
    "\n",
    "        return predictions"
   ]
  },
  {
   "cell_type": "markdown",
   "id": "f3f5adae-803a-4ef8-b04f-efcdf6bbbf47",
   "metadata": {},
   "source": [
    "Test Naključni prediktor"
   ]
  },
  {
   "cell_type": "code",
   "execution_count": 7,
   "id": "7d6c67f3-884b-47ea-8ffc-20c29922f4a3",
   "metadata": {},
   "outputs": [
    {
     "name": "stdout",
     "output_type": "stream",
     "text": [
      "<class 'dict'>\n",
      "Film: Toy story, ocena: 1\n",
      "Film: Grumpy Old Men, ocena: 2\n",
      "Film: Money Train, ocena: 1\n",
      "Film: The Usual Suspects, ocena: 4\n",
      "Film: City Hall, ocena: 3\n"
     ]
    }
   ],
   "source": [
    "md = MovieData('data/movies.dat')\n",
    "uim = UserItemData('data/user_ratedmovies.dat')\n",
    "rp = RandomPredictor(1, 5)\n",
    "rp.fit(uim)\n",
    "pred = rp.predict(78)\n",
    "print(type(pred))\n",
    "items = [1, 3, 20, 50, 100]\n",
    "for item in items:\n",
    "    print(\"Film: {}, ocena: {}\".format(md.get_title(item), pred[item]))"
   ]
  },
  {
   "cell_type": "markdown",
   "id": "11be984f-759f-4c5a-8bdf-b665fe9bb3a5",
   "metadata": {},
   "source": [
    "Priporočanje"
   ]
  },
  {
   "cell_type": "code",
   "execution_count": 8,
   "id": "260ff2ca-912e-43bf-bedc-a2be73ace065",
   "metadata": {},
   "outputs": [],
   "source": [
    "class Recommender:\n",
    "    def __init__(self, predictor):\n",
    "        self.predictor = predictor\n",
    "        self.data = None\n",
    "\n",
    "    def fit(self, X):\n",
    "        self.data = X.data\n",
    "        self.predictor.fit(X)\n",
    "        \n",
    "\n",
    "    def recommend(self, userID, n=10, rec_seen=True):\n",
    "        predictions = self.predictor.predict(userID)\n",
    "        \n",
    "        if not rec_seen:\n",
    "            rated = (self.data['userID'] == userID)\n",
    "            rated_movies = self.data.loc[rated, 'movieID']\n",
    "            for m in rated_movies:\n",
    "                if m in predictions:\n",
    "                    del predictions[m]\n",
    "\n",
    "        sorted_predictions = sorted(predictions.items(), key=lambda x: x[1], reverse=True)\n",
    "        \n",
    "        return sorted_predictions[:n]"
   ]
  },
  {
   "cell_type": "markdown",
   "id": "24836078-4eaa-4047-b5d6-b044947064a1",
   "metadata": {},
   "source": [
    "Test Priporočanje"
   ]
  },
  {
   "cell_type": "code",
   "execution_count": 9,
   "id": "dae8e81e-aee1-450d-aa33-056a6175c186",
   "metadata": {},
   "outputs": [
    {
     "name": "stdout",
     "output_type": "stream",
     "text": [
      "Film: Die Hard: With a Vengeance, ocena: 5\n",
      "Film: DragonHeart, ocena: 5\n",
      "Film: Ransom, ocena: 5\n",
      "Film: Back to the Future Part II, ocena: 5\n",
      "Film: The Negotiator, ocena: 5\n"
     ]
    }
   ],
   "source": [
    "md = MovieData('data/movies.dat')\n",
    "uim = UserItemData('data/user_ratedmovies.dat')\n",
    "rp = RandomPredictor(1, 5)\n",
    "rec = Recommender(rp)\n",
    "rec.fit(uim)\n",
    "rec_items = rec.recommend(78, n=5, rec_seen=False)\n",
    "for idmovie, val in rec_items:\n",
    "    print(\"Film: {}, ocena: {}\".format(md.get_title(idmovie), val))  "
   ]
  },
  {
   "cell_type": "markdown",
   "id": "c2454f37-2a9a-4800-84c7-68000044ac6e",
   "metadata": {},
   "source": [
    "Napovedovanje s povprečjem"
   ]
  },
  {
   "cell_type": "code",
   "execution_count": 10,
   "id": "92e5859e-0b20-429c-885c-cdd73c3206f2",
   "metadata": {},
   "outputs": [],
   "source": [
    "class AveragePredictor:\n",
    "    def __init__(self, b=0):\n",
    "        self.data = None\n",
    "        self.b = b\n",
    "        self.movie_avgs = {}\n",
    "        self.g_avg = 0.0\n",
    "\n",
    "    def fit(self, X):\n",
    "        self.data = X.data\n",
    "        \n",
    "        self.g_avg = self.data['rating'].mean()\n",
    "\n",
    "        grouped = self.data.groupby('movieID')['rating']\n",
    "        sum_ratings = grouped.sum()\n",
    "        count_ratings = grouped.count()\n",
    "\n",
    "        for movie_id in sum_ratings.index:\n",
    "            vs = sum_ratings[movie_id]\n",
    "            n = count_ratings[movie_id]\n",
    "            avg_m = (vs + self.b * self.g_avg) / (n + self.b)\n",
    "            self.movie_avgs[movie_id] = avg_m\n",
    "            \n",
    "\n",
    "    def predict(self, user_id):\n",
    "        predictions = {}\n",
    "\n",
    "        for movie_id, avg_rating in self.movie_avgs.items():\n",
    "            predictions[movie_id] = avg_rating\n",
    "\n",
    "        return predictions\n",
    "        "
   ]
  },
  {
   "cell_type": "markdown",
   "id": "6b672433-ddc6-4d6c-8be5-33c9d59dd3e9",
   "metadata": {},
   "source": [
    "Test Napovedovanje s povprečjem 1"
   ]
  },
  {
   "cell_type": "code",
   "execution_count": 11,
   "id": "473e5f40-8075-4cbc-a0c8-367ea02470b3",
   "metadata": {},
   "outputs": [
    {
     "name": "stdout",
     "output_type": "stream",
     "text": [
      "Film: The Usual Suspects, ocena: 4.225944245560473\n",
      "Film: The Godfather: Part II, ocena: 4.146907937910189\n",
      "Film: Cidade de Deus, ocena: 4.116538340205236\n",
      "Film: The Dark Knight, ocena: 4.10413904093503\n",
      "Film: 12 Angry Men, ocena: 4.103639627096175\n"
     ]
    }
   ],
   "source": [
    "md = MovieData('data/movies.dat')\n",
    "uim = UserItemData('data/user_ratedmovies.dat')\n",
    "rp = AveragePredictor(b=100)\n",
    "rec = Recommender(rp)\n",
    "rec.fit(uim)\n",
    "rec_items = rec.recommend(78, n=5, rec_seen=False)\n",
    "for idmovie, val in rec_items:\n",
    "    print(\"Film: {}, ocena: {}\".format(md.get_title(idmovie), val)) "
   ]
  },
  {
   "cell_type": "markdown",
   "id": "e0da99fd-4c7a-466b-bd8d-2feb5a9b5c3c",
   "metadata": {},
   "source": [
    "Test Napovedovanje s povprečjem 2"
   ]
  },
  {
   "cell_type": "code",
   "execution_count": 12,
   "id": "ebba509e-aee8-4936-ab1b-7ce32700e366",
   "metadata": {},
   "outputs": [
    {
     "name": "stdout",
     "output_type": "stream",
     "text": [
      "Film: Brother Minister: The Assassination of Malcolm X, ocena: 5.0\n",
      "Film: Synthetic Pleasures, ocena: 5.0\n",
      "Film: Gabbeh, ocena: 5.0\n",
      "Film: Storefront Hitchcock, ocena: 5.0\n",
      "Film: Ko to tamo peva, ocena: 5.0\n"
     ]
    }
   ],
   "source": [
    "md = MovieData('data/movies.dat')\n",
    "uim = UserItemData('data/user_ratedmovies.dat')\n",
    "rp = AveragePredictor(b=0)\n",
    "rec = Recommender(rp)\n",
    "rec.fit(uim)\n",
    "rec_items = rec.recommend(78, n=5, rec_seen=False)\n",
    "for idmovie, val in rec_items:\n",
    "    print(\"Film: {}, ocena: {}\".format(md.get_title(idmovie), val)) "
   ]
  },
  {
   "cell_type": "markdown",
   "id": "651c5f0f-7d6b-4fe8-af8e-fef35de57b04",
   "metadata": {},
   "source": [
    "Priporočanje najbolj gledanih filmov"
   ]
  },
  {
   "cell_type": "code",
   "execution_count": 13,
   "id": "83e7120f-4f9d-422e-b3e9-62d5d589e37c",
   "metadata": {},
   "outputs": [],
   "source": [
    "class ViewsPredictor:\n",
    "    def __init__(self):\n",
    "        self.data = None\n",
    "        self.movie_views = None\n",
    "\n",
    "    def fit(self, X):\n",
    "        self.data = X.data\n",
    "\n",
    "        grouped = self.data.groupby('movieID')\n",
    "        self.movie_views = grouped.size()\n",
    "\n",
    "    \n",
    "    def predict(self, user_id):\n",
    "        predictions = dict(self.movie_views)\n",
    "        return predictions"
   ]
  },
  {
   "cell_type": "markdown",
   "id": "271c3392-679b-4561-9a9c-0d2fd416370b",
   "metadata": {},
   "source": [
    "Test Priporočanje najbolj gledanih filmov"
   ]
  },
  {
   "cell_type": "code",
   "execution_count": 14,
   "id": "1e8ca396-9546-4abb-b291-5826903eeb91",
   "metadata": {},
   "outputs": [
    {
     "name": "stdout",
     "output_type": "stream",
     "text": [
      "Film: The Lord of the Rings: The Fellowship of the Ring, ocena (ogledi): 1576\n",
      "Film: The Lord of the Rings: The Two Towers, ocena (ogledi): 1528\n",
      "Film: The Lord of the Rings: The Return of the King, ocena (ogledi): 1457\n",
      "Film: The Silence of the Lambs, ocena (ogledi): 1431\n",
      "Film: Shrek, ocena (ogledi): 1404\n"
     ]
    }
   ],
   "source": [
    "md = MovieData('data/movies.dat')\n",
    "uim = UserItemData('data/user_ratedmovies.dat')\n",
    "rp = ViewsPredictor()\n",
    "rec = Recommender(rp)\n",
    "rec.fit(uim)\n",
    "rec_items = rec.recommend(78, n=5, rec_seen=False)\n",
    "for idmovie, views in rec_items:\n",
    "    print(\"Film: {}, ocena (ogledi): {}\".format(md.get_title(idmovie), views)) "
   ]
  },
  {
   "cell_type": "markdown",
   "id": "36bd5286-47b1-4aa7-96e0-e61bd07dba6c",
   "metadata": {},
   "source": [
    "Priporočanje kontroverznih filmov"
   ]
  },
  {
   "cell_type": "code",
   "execution_count": 15,
   "id": "8efb0b93-b581-435a-9e11-256db7dee1e0",
   "metadata": {},
   "outputs": [],
   "source": [
    "class STDPredictor():\n",
    "    def __init__(self, min_ratings=100):\n",
    "        self.data = None\n",
    "        self.min_ratings = min_ratings\n",
    "        self.std_map = {}\n",
    "\n",
    "    def fit(self, X):\n",
    "        self.data = X.data\n",
    "\n",
    "        grouped = self.data.groupby('movieID')['rating']\n",
    "        counts = grouped.count()\n",
    "        std_vals = grouped.std()\n",
    "\n",
    "        for movie_id in std_vals.index:\n",
    "            if counts[movie_id] >= self.min_ratings:\n",
    "                self.std_map[movie_id] = std_vals[movie_id]\n",
    "\n",
    "\n",
    "    def predict(self, user_id):\n",
    "        return self.std_map"
   ]
  },
  {
   "cell_type": "markdown",
   "id": "a6c046b2-e496-46a4-ae97-bf2bf9ac5c41",
   "metadata": {},
   "source": [
    "Test Priporočanje kontroverznih filmov"
   ]
  },
  {
   "cell_type": "code",
   "execution_count": 16,
   "id": "2875cfc6-e576-4b6a-9302-e29ca9084595",
   "metadata": {},
   "outputs": [
    {
     "name": "stdout",
     "output_type": "stream",
     "text": [
      "Film: Plan 9 from Outer Space, ocena: 1.3449520951495717\n",
      "Film: The Passion of the Christ, ocena: 1.281493459525735\n",
      "Film: The Texas Chainsaw Massacre, ocena: 1.235349321908819\n",
      "Film: Jackass Number Two, ocena: 1.2189769976366684\n",
      "Film: White Chicks, ocena: 1.1899581424297319\n"
     ]
    }
   ],
   "source": [
    "md = MovieData('data/movies.dat')\n",
    "uim = UserItemData('data/user_ratedmovies.dat')\n",
    "rp = STDPredictor(100)\n",
    "rec = Recommender(rp)\n",
    "rec.fit(uim)\n",
    "rec_items = rec.recommend(78, n=5, rec_seen=False)\n",
    "for idmovie, val in rec_items:\n",
    "    print(\"Film: {}, ocena: {}\".format(md.get_title(idmovie), val))"
   ]
  },
  {
   "cell_type": "markdown",
   "id": "84b9e76f-4426-47a3-8df5-fa7877e56311",
   "metadata": {},
   "source": [
    "2. del"
   ]
  },
  {
   "cell_type": "markdown",
   "id": "d7a1657e-b5fb-4475-a836-d626096dd31f",
   "metadata": {},
   "source": [
    "Napovedovanje ocen s podobnostjo med produkti"
   ]
  },
  {
   "cell_type": "code",
   "execution_count": 19,
   "id": "0d74866d-5093-4e17-b91b-2abe3564d9f0",
   "metadata": {},
   "outputs": [],
   "source": [
    "class ItemBasedPredictor:\n",
    "    def __init__(self, min_values=0, threshold=0.0):\n",
    "        self.min_values = min_values\n",
    "        self.threshold = threshold\n",
    "        \n",
    "        self.movie_users = defaultdict(dict)\n",
    "        self.user_avg = {}\n",
    "        self.sim_matrix = defaultdict(dict)\n",
    "\n",
    "    def fit(self, X):\n",
    "        df = X.data\n",
    "\n",
    "        user_ratings = defaultdict(list)\n",
    "\n",
    "        for row in df.itertuples(index=False):\n",
    "            user = row.userID\n",
    "            movie = row.movieID\n",
    "            rating = row.rating\n",
    "            self.movie_users[movie][user] = rating\n",
    "            user_ratings[user].append(rating)\n",
    "\n",
    "        for user, ratings in user_ratings.items():\n",
    "            self.user_avg[user] = np.mean(ratings)\n",
    "\n",
    "        filtered_movies = list(self.movie_users.keys())\n",
    "        n = len(filtered_movies)\n",
    "\n",
    "        for i in range(n):\n",
    "            p = filtered_movies[i]\n",
    "            for j in range(i+1, n):\n",
    "                q = filtered_movies[j]\n",
    "                sim_pq = self.compute_similarity(p, q)\n",
    "                self.sim_matrix[p][q] = sim_pq\n",
    "                self.sim_matrix[q][p] = sim_pq\n",
    "\n",
    "    def compute_similarity(self, p, q):\n",
    "        users_p = self.movie_users[p]\n",
    "        users_q = self.movie_users[q]\n",
    "\n",
    "        common_users = set(users_p.keys()).intersection(users_q.keys())\n",
    "\n",
    "        if len(common_users) < self.min_values:\n",
    "            return 0.0\n",
    "\n",
    "        num = 0.0\n",
    "        denom_p = 0.0\n",
    "        denom_q = 0.0\n",
    "\n",
    "        for u in common_users:\n",
    "            r_up = users_p[u]\n",
    "            r_uq = users_q[u]\n",
    "            avg_u = self.user_avg[u]\n",
    "\n",
    "            x_u = r_up - avg_u\n",
    "            y_u = r_uq - avg_u\n",
    "\n",
    "            num += x_u * y_u\n",
    "            denom_p += x_u**2\n",
    "            denom_q += y_u**2\n",
    "\n",
    "        if denom_p == 0.0 or denom_q == 0.0:\n",
    "            return 0.0\n",
    "\n",
    "        sim = num / (sqrt(denom_p) * sqrt(denom_q))\n",
    "\n",
    "        if sim < self.threshold:\n",
    "            sim = 0.0\n",
    "\n",
    "        return sim\n",
    "\n",
    "    def similarity(self, p, q):\n",
    "        if p in self.sim_matrix and q in self.sim_matrix[p]:\n",
    "            return self.sim_matrix[p][q]\n",
    "        return 0.0\n",
    "\n",
    "    def predict(self, user_id):\n",
    "        predictions = {}\n",
    "        \n",
    "        items_rated_by_user = {}\n",
    "        for p, user_rating_dict in self.movie_users.items():\n",
    "            if user_id in user_rating_dict:\n",
    "                items_rated_by_user[p] = user_rating_dict[user_id]\n",
    "\n",
    "       \n",
    "        user_avg_rating = self.user_avg.get(user_id, 0.0)\n",
    "\n",
    "        \n",
    "        for p in self.movie_users.keys():\n",
    "            numerator = 0.0\n",
    "            denominator = 0.0\n",
    "\n",
    "            for q, r_uq in items_rated_by_user.items():\n",
    "                sim_pq = self.similarity(p, q)\n",
    "                if sim_pq != 0:\n",
    "                    numerator += sim_pq * (r_uq - self.user_avg[user_id])\n",
    "                    denominator += abs(sim_pq)\n",
    "\n",
    "            if denominator > 0:\n",
    "                r_up = user_avg_rating + (numerator / denominator)\n",
    "            else:\n",
    "                r_up = user_avg_rating\n",
    "\n",
    "            predictions[p] = r_up\n",
    "\n",
    "        return predictions"
   ]
  },
  {
   "cell_type": "markdown",
   "id": "b90f2ac8-7d75-480f-bc46-1a0927c010db",
   "metadata": {},
   "source": [
    "Test Napovedovanje ocen s podobnostjo med produkti"
   ]
  },
  {
   "cell_type": "code",
   "execution_count": 18,
   "id": "78493bfb-7ce1-44ce-8a3a-eee75713e5f5",
   "metadata": {},
   "outputs": [
    {
     "name": "stdout",
     "output_type": "stream",
     "text": [
      "Podobnost med filmoma 'Men in black'(1580) in 'Ghostbusters'(2716):  0.2711680631501605\n",
      "Podobnost med filmoma 'Men in black'(1580) in 'Schindler's List'(527):  0.0\n",
      "Podobnost med filmoma 'Men in black'(1580) in 'Independence day'(780):  0.3098946171535537\n",
      "Predictions for 78: \n",
      "Film: I Heart Huckabees, ocena: 4.3919564331926635\n",
      "Film: Syriana, ocena: 4.372170522439774\n",
      "Film: Wild at Heart, ocena: 4.370021531008449\n",
      "Film: Jacob's Ladder, ocena: 4.367639958224053\n",
      "Film: Dead Man, ocena: 4.363740087096782\n",
      "Film: Burn After Reading, ocena: 4.362635744173872\n",
      "Film: Capturing the Friedmans, ocena: 4.362359166526014\n",
      "Film: M, ocena: 4.360589034773433\n",
      "Film: An Inconvenient Truth, ocena: 4.35998694418005\n",
      "Film: Le peuple migrateur, ocena: 4.3583634106381055\n",
      "Film: The Purple Rose of Cairo, ocena: 4.357917741944803\n",
      "Film: The Hours, ocena: 4.35760488986589\n",
      "Film: Punch-Drunk Love, ocena: 4.3557271070411145\n",
      "Film: Double Indemnity, ocena: 4.35516705690679\n",
      "Film: Mulholland Dr., ocena: 4.352255608285488\n"
     ]
    }
   ],
   "source": [
    "md = MovieData('data/movies.dat')\n",
    "uim = UserItemData('data/user_ratedmovies.dat', min_ratings=1000)\n",
    "rp = ItemBasedPredictor()\n",
    "rec = Recommender(rp)\n",
    "rec.fit(uim)\n",
    "print(\"Podobnost med filmoma 'Men in black'(1580) in 'Ghostbusters'(2716): \", rp.similarity(1580, 2716))\n",
    "print(\"Podobnost med filmoma 'Men in black'(1580) in 'Schindler's List'(527): \", rp.similarity(1580, 527))\n",
    "print(\"Podobnost med filmoma 'Men in black'(1580) in 'Independence day'(780): \", rp.similarity(1580, 780))\n",
    "\n",
    "print(\"Predictions for 78: \")\n",
    "rec_items = rec.recommend(78, n=15, rec_seen=False)\n",
    "for idmovie, val in rec_items:\n",
    "    print(\"Film: {}, ocena: {}\".format(md.get_title(idmovie), val))"
   ]
  },
  {
   "cell_type": "markdown",
   "id": "7ae39249-cf00-4929-b1be-801893e6645f",
   "metadata": {},
   "source": [
    "Najbolj podobni filmi"
   ]
  },
  {
   "cell_type": "code",
   "execution_count": null,
   "id": "c604fc70-8926-4357-a997-96bde567a2f3",
   "metadata": {},
   "outputs": [],
   "source": []
  },
  {
   "cell_type": "markdown",
   "id": "8963ec35-a323-4214-b807-635d0e96a39a",
   "metadata": {},
   "source": [
    "Test Najbolj podobni filmi"
   ]
  },
  {
   "cell_type": "code",
   "execution_count": null,
   "id": "7626e2ff-48dd-4e47-85f4-837dd269a772",
   "metadata": {},
   "outputs": [],
   "source": []
  }
 ],
 "metadata": {
  "kernelspec": {
   "display_name": "Python 3 (ipykernel)",
   "language": "python",
   "name": "python3"
  },
  "language_info": {
   "codemirror_mode": {
    "name": "ipython",
    "version": 3
   },
   "file_extension": ".py",
   "mimetype": "text/x-python",
   "name": "python",
   "nbconvert_exporter": "python",
   "pygments_lexer": "ipython3",
   "version": "3.13.0"
  }
 },
 "nbformat": 4,
 "nbformat_minor": 5
}
